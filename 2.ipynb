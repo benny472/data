{
  "nbformat": 4,
  "nbformat_minor": 0,
  "metadata": {
    "kernelspec": {
      "display_name": "Python 3",
      "language": "python",
      "name": "python3"
    },
    "language_info": {
      "codemirror_mode": {
        "name": "ipython",
        "version": 3
      },
      "file_extension": ".py",
      "mimetype": "text/x-python",
      "name": "python",
      "nbconvert_exporter": "python",
      "pygments_lexer": "ipython3",
      "version": "3.7.3"
    },
    "colab": {
      "name": "BehnamSafayi.ipynb",
      "provenance": [],
      "collapsed_sections": [],
      "toc_visible": true
    },
    "accelerator": "GPU"
  },
  "cells": [
    {
      "cell_type": "markdown",
      "metadata": {
        "id": "vfeKjwKWp5VH"
      },
      "source": [
        "# <center> Machine Learning </center>\n",
        "# <center> How implement a simple Neural Network with Keras </center>"
      ]
    },
    {
      "cell_type": "markdown",
      "metadata": {
        "id": "MVALWYNmp5VM"
      },
      "source": [
        "# 1. Introduction about Iris Flower \n",
        "\n",
        "<p style=\"text-align: justify;\">The Iris Flower Dataset, also called Fisher’s Iris, is a dataset introduced by Ronald Fisher, a British statistician, and biologist, with several contributions to science. Ronald Fisher has well known worldwide for his paper The use of multiple measurements in taxonomic problems as an example of linear discriminant analysis. It was in this paper that Ronald Fisher introduced the Iris flower dataset.</p>\n",
        "\n",
        "<p style=\"text-align: justify;\">The iris database consists of 50 samples distributed among three different species of iris. Each of these samples has specific characteristics, which allows them to be classified into three categories: Iris Setosa, Iris Virginica, and Iris versicolor. In this tutorial, we will use multilayer perceptron to separate and classify the iris samples.</p>\n",
        "\n",
        "- The data set consists of 50 samples from each of three species of Iris (Iris setosa, Iris virginica, and Iris versicolor).\n",
        "\n",
        "- Four features were measured from each sample, the length and the width of the sepals and petals, in centimeters.\n",
        "\n",
        "- Based on the combination of these four features, Fisher developed a linear discriminant model to distinguish the species from each other.\n",
        "\n",
        "For this example, we will implement a Neural Network with Keras. \n",
        "\n",
        "### Complete the missing parts!"
      ]
    },
    {
      "cell_type": "markdown",
      "metadata": {
        "id": "SewM7ZZTp5VM"
      },
      "source": [
        "<div class=\"container-fluid\">\n",
        "  <div class=\"row\">\n",
        "      <div class=\"col-md-2\" align='center'>\n",
        "      </div>\n",
        "      <div class='col-md-8' align='center'>\n",
        "           <img src='https://s3.amazonaws.com/assets.datacamp.com/blog_assets/iris-machinelearning.png' />\n",
        "      </div>\n",
        "      <div class=\"col-md-2\" align='center'></div>\n",
        "  </div>\n",
        "</div>\n"
      ]
    },
    {
      "cell_type": "markdown",
      "metadata": {
        "id": "voJR2jz_p5VN"
      },
      "source": [
        "## Some Python Libraries and load of data\n",
        "\n",
        "<p style=\"text-align: justify;\">In the first place, Let's define some libraries to help us in the manipulation the data set, such as `numpy`, `matplotlib`, and `scikit-learn`. Then load data from scikit-learn dataset library</p>"
      ]
    },
    {
      "cell_type": "code",
      "metadata": {
        "id": "m0iJyfWep5VN"
      },
      "source": [
        "import numpy as np\n",
        "import matplotlib.pyplot as plt\n",
        "%matplotlib inline\n",
        "\n",
        "from sklearn.datasets import load_iris\n",
        "iris_data = load_iris()"
      ],
      "execution_count": null,
      "outputs": []
    },
    {
      "cell_type": "markdown",
      "metadata": {
        "id": "XiHY0umyp5VN"
      },
      "source": [
        "## An analysis about the Iris Flower Dataset\n"
      ]
    },
    {
      "cell_type": "code",
      "metadata": {
        "id": "vMqZOU-ep5VO",
        "colab": {
          "base_uri": "https://localhost:8080/"
        },
        "outputId": "c3e386a7-3289-47f9-9c9c-eca1870b4da3"
      },
      "source": [
        "print(iris_data['DESCR'])"
      ],
      "execution_count": null,
      "outputs": [
        {
          "output_type": "stream",
          "name": "stdout",
          "text": [
            ".. _iris_dataset:\n",
            "\n",
            "Iris plants dataset\n",
            "--------------------\n",
            "\n",
            "**Data Set Characteristics:**\n",
            "\n",
            "    :Number of Instances: 150 (50 in each of three classes)\n",
            "    :Number of Attributes: 4 numeric, predictive attributes and the class\n",
            "    :Attribute Information:\n",
            "        - sepal length in cm\n",
            "        - sepal width in cm\n",
            "        - petal length in cm\n",
            "        - petal width in cm\n",
            "        - class:\n",
            "                - Iris-Setosa\n",
            "                - Iris-Versicolour\n",
            "                - Iris-Virginica\n",
            "                \n",
            "    :Summary Statistics:\n",
            "\n",
            "    ============== ==== ==== ======= ===== ====================\n",
            "                    Min  Max   Mean    SD   Class Correlation\n",
            "    ============== ==== ==== ======= ===== ====================\n",
            "    sepal length:   4.3  7.9   5.84   0.83    0.7826\n",
            "    sepal width:    2.0  4.4   3.05   0.43   -0.4194\n",
            "    petal length:   1.0  6.9   3.76   1.76    0.9490  (high!)\n",
            "    petal width:    0.1  2.5   1.20   0.76    0.9565  (high!)\n",
            "    ============== ==== ==== ======= ===== ====================\n",
            "\n",
            "    :Missing Attribute Values: None\n",
            "    :Class Distribution: 33.3% for each of 3 classes.\n",
            "    :Creator: R.A. Fisher\n",
            "    :Donor: Michael Marshall (MARSHALL%PLU@io.arc.nasa.gov)\n",
            "    :Date: July, 1988\n",
            "\n",
            "The famous Iris database, first used by Sir R.A. Fisher. The dataset is taken\n",
            "from Fisher's paper. Note that it's the same as in R, but not as in the UCI\n",
            "Machine Learning Repository, which has two wrong data points.\n",
            "\n",
            "This is perhaps the best known database to be found in the\n",
            "pattern recognition literature.  Fisher's paper is a classic in the field and\n",
            "is referenced frequently to this day.  (See Duda & Hart, for example.)  The\n",
            "data set contains 3 classes of 50 instances each, where each class refers to a\n",
            "type of iris plant.  One class is linearly separable from the other 2; the\n",
            "latter are NOT linearly separable from each other.\n",
            "\n",
            ".. topic:: References\n",
            "\n",
            "   - Fisher, R.A. \"The use of multiple measurements in taxonomic problems\"\n",
            "     Annual Eugenics, 7, Part II, 179-188 (1936); also in \"Contributions to\n",
            "     Mathematical Statistics\" (John Wiley, NY, 1950).\n",
            "   - Duda, R.O., & Hart, P.E. (1973) Pattern Classification and Scene Analysis.\n",
            "     (Q327.D83) John Wiley & Sons.  ISBN 0-471-22361-1.  See page 218.\n",
            "   - Dasarathy, B.V. (1980) \"Nosing Around the Neighborhood: A New System\n",
            "     Structure and Classification Rule for Recognition in Partially Exposed\n",
            "     Environments\".  IEEE Transactions on Pattern Analysis and Machine\n",
            "     Intelligence, Vol. PAMI-2, No. 1, 67-71.\n",
            "   - Gates, G.W. (1972) \"The Reduced Nearest Neighbor Rule\".  IEEE Transactions\n",
            "     on Information Theory, May 1972, 431-433.\n",
            "   - See also: 1988 MLC Proceedings, 54-64.  Cheeseman et al\"s AUTOCLASS II\n",
            "     conceptual clustering system finds 3 classes in the data.\n",
            "   - Many, many more ...\n"
          ]
        }
      ]
    },
    {
      "cell_type": "markdown",
      "source": [
        "## Create the X matrix and the y target vector from iris_data"
      ],
      "metadata": {
        "id": "Evd69eRYF8HF"
      }
    },
    {
      "cell_type": "code",
      "metadata": {
        "id": "n3YNmWJap5VO",
        "collapsed": true,
        "colab": {
          "base_uri": "https://localhost:8080/"
        },
        "outputId": "bb00748c-c94e-46c9-a422-a5db35a7d0da"
      },
      "source": [
        "Y = iris_data.target\n",
        "Y"
      ],
      "execution_count": null,
      "outputs": [
        {
          "output_type": "execute_result",
          "data": {
            "text/plain": [
              "array([0, 0, 0, 0, 0, 0, 0, 0, 0, 0, 0, 0, 0, 0, 0, 0, 0, 0, 0, 0, 0, 0,\n",
              "       0, 0, 0, 0, 0, 0, 0, 0, 0, 0, 0, 0, 0, 0, 0, 0, 0, 0, 0, 0, 0, 0,\n",
              "       0, 0, 0, 0, 0, 0, 1, 1, 1, 1, 1, 1, 1, 1, 1, 1, 1, 1, 1, 1, 1, 1,\n",
              "       1, 1, 1, 1, 1, 1, 1, 1, 1, 1, 1, 1, 1, 1, 1, 1, 1, 1, 1, 1, 1, 1,\n",
              "       1, 1, 1, 1, 1, 1, 1, 1, 1, 1, 1, 1, 2, 2, 2, 2, 2, 2, 2, 2, 2, 2,\n",
              "       2, 2, 2, 2, 2, 2, 2, 2, 2, 2, 2, 2, 2, 2, 2, 2, 2, 2, 2, 2, 2, 2,\n",
              "       2, 2, 2, 2, 2, 2, 2, 2, 2, 2, 2, 2, 2, 2, 2, 2, 2, 2])"
            ]
          },
          "metadata": {},
          "execution_count": 3
        }
      ]
    },
    {
      "cell_type": "code",
      "source": [
        "X = iris_data.data\n",
        "X"
      ],
      "metadata": {
        "colab": {
          "base_uri": "https://localhost:8080/"
        },
        "id": "HcruPcUsoCL-",
        "outputId": "b390eb6d-4a6c-45b8-e1de-7231461901d5"
      },
      "execution_count": null,
      "outputs": [
        {
          "output_type": "execute_result",
          "data": {
            "text/plain": [
              "array([[5.1, 3.5, 1.4, 0.2],\n",
              "       [4.9, 3. , 1.4, 0.2],\n",
              "       [4.7, 3.2, 1.3, 0.2],\n",
              "       [4.6, 3.1, 1.5, 0.2],\n",
              "       [5. , 3.6, 1.4, 0.2],\n",
              "       [5.4, 3.9, 1.7, 0.4],\n",
              "       [4.6, 3.4, 1.4, 0.3],\n",
              "       [5. , 3.4, 1.5, 0.2],\n",
              "       [4.4, 2.9, 1.4, 0.2],\n",
              "       [4.9, 3.1, 1.5, 0.1],\n",
              "       [5.4, 3.7, 1.5, 0.2],\n",
              "       [4.8, 3.4, 1.6, 0.2],\n",
              "       [4.8, 3. , 1.4, 0.1],\n",
              "       [4.3, 3. , 1.1, 0.1],\n",
              "       [5.8, 4. , 1.2, 0.2],\n",
              "       [5.7, 4.4, 1.5, 0.4],\n",
              "       [5.4, 3.9, 1.3, 0.4],\n",
              "       [5.1, 3.5, 1.4, 0.3],\n",
              "       [5.7, 3.8, 1.7, 0.3],\n",
              "       [5.1, 3.8, 1.5, 0.3],\n",
              "       [5.4, 3.4, 1.7, 0.2],\n",
              "       [5.1, 3.7, 1.5, 0.4],\n",
              "       [4.6, 3.6, 1. , 0.2],\n",
              "       [5.1, 3.3, 1.7, 0.5],\n",
              "       [4.8, 3.4, 1.9, 0.2],\n",
              "       [5. , 3. , 1.6, 0.2],\n",
              "       [5. , 3.4, 1.6, 0.4],\n",
              "       [5.2, 3.5, 1.5, 0.2],\n",
              "       [5.2, 3.4, 1.4, 0.2],\n",
              "       [4.7, 3.2, 1.6, 0.2],\n",
              "       [4.8, 3.1, 1.6, 0.2],\n",
              "       [5.4, 3.4, 1.5, 0.4],\n",
              "       [5.2, 4.1, 1.5, 0.1],\n",
              "       [5.5, 4.2, 1.4, 0.2],\n",
              "       [4.9, 3.1, 1.5, 0.2],\n",
              "       [5. , 3.2, 1.2, 0.2],\n",
              "       [5.5, 3.5, 1.3, 0.2],\n",
              "       [4.9, 3.6, 1.4, 0.1],\n",
              "       [4.4, 3. , 1.3, 0.2],\n",
              "       [5.1, 3.4, 1.5, 0.2],\n",
              "       [5. , 3.5, 1.3, 0.3],\n",
              "       [4.5, 2.3, 1.3, 0.3],\n",
              "       [4.4, 3.2, 1.3, 0.2],\n",
              "       [5. , 3.5, 1.6, 0.6],\n",
              "       [5.1, 3.8, 1.9, 0.4],\n",
              "       [4.8, 3. , 1.4, 0.3],\n",
              "       [5.1, 3.8, 1.6, 0.2],\n",
              "       [4.6, 3.2, 1.4, 0.2],\n",
              "       [5.3, 3.7, 1.5, 0.2],\n",
              "       [5. , 3.3, 1.4, 0.2],\n",
              "       [7. , 3.2, 4.7, 1.4],\n",
              "       [6.4, 3.2, 4.5, 1.5],\n",
              "       [6.9, 3.1, 4.9, 1.5],\n",
              "       [5.5, 2.3, 4. , 1.3],\n",
              "       [6.5, 2.8, 4.6, 1.5],\n",
              "       [5.7, 2.8, 4.5, 1.3],\n",
              "       [6.3, 3.3, 4.7, 1.6],\n",
              "       [4.9, 2.4, 3.3, 1. ],\n",
              "       [6.6, 2.9, 4.6, 1.3],\n",
              "       [5.2, 2.7, 3.9, 1.4],\n",
              "       [5. , 2. , 3.5, 1. ],\n",
              "       [5.9, 3. , 4.2, 1.5],\n",
              "       [6. , 2.2, 4. , 1. ],\n",
              "       [6.1, 2.9, 4.7, 1.4],\n",
              "       [5.6, 2.9, 3.6, 1.3],\n",
              "       [6.7, 3.1, 4.4, 1.4],\n",
              "       [5.6, 3. , 4.5, 1.5],\n",
              "       [5.8, 2.7, 4.1, 1. ],\n",
              "       [6.2, 2.2, 4.5, 1.5],\n",
              "       [5.6, 2.5, 3.9, 1.1],\n",
              "       [5.9, 3.2, 4.8, 1.8],\n",
              "       [6.1, 2.8, 4. , 1.3],\n",
              "       [6.3, 2.5, 4.9, 1.5],\n",
              "       [6.1, 2.8, 4.7, 1.2],\n",
              "       [6.4, 2.9, 4.3, 1.3],\n",
              "       [6.6, 3. , 4.4, 1.4],\n",
              "       [6.8, 2.8, 4.8, 1.4],\n",
              "       [6.7, 3. , 5. , 1.7],\n",
              "       [6. , 2.9, 4.5, 1.5],\n",
              "       [5.7, 2.6, 3.5, 1. ],\n",
              "       [5.5, 2.4, 3.8, 1.1],\n",
              "       [5.5, 2.4, 3.7, 1. ],\n",
              "       [5.8, 2.7, 3.9, 1.2],\n",
              "       [6. , 2.7, 5.1, 1.6],\n",
              "       [5.4, 3. , 4.5, 1.5],\n",
              "       [6. , 3.4, 4.5, 1.6],\n",
              "       [6.7, 3.1, 4.7, 1.5],\n",
              "       [6.3, 2.3, 4.4, 1.3],\n",
              "       [5.6, 3. , 4.1, 1.3],\n",
              "       [5.5, 2.5, 4. , 1.3],\n",
              "       [5.5, 2.6, 4.4, 1.2],\n",
              "       [6.1, 3. , 4.6, 1.4],\n",
              "       [5.8, 2.6, 4. , 1.2],\n",
              "       [5. , 2.3, 3.3, 1. ],\n",
              "       [5.6, 2.7, 4.2, 1.3],\n",
              "       [5.7, 3. , 4.2, 1.2],\n",
              "       [5.7, 2.9, 4.2, 1.3],\n",
              "       [6.2, 2.9, 4.3, 1.3],\n",
              "       [5.1, 2.5, 3. , 1.1],\n",
              "       [5.7, 2.8, 4.1, 1.3],\n",
              "       [6.3, 3.3, 6. , 2.5],\n",
              "       [5.8, 2.7, 5.1, 1.9],\n",
              "       [7.1, 3. , 5.9, 2.1],\n",
              "       [6.3, 2.9, 5.6, 1.8],\n",
              "       [6.5, 3. , 5.8, 2.2],\n",
              "       [7.6, 3. , 6.6, 2.1],\n",
              "       [4.9, 2.5, 4.5, 1.7],\n",
              "       [7.3, 2.9, 6.3, 1.8],\n",
              "       [6.7, 2.5, 5.8, 1.8],\n",
              "       [7.2, 3.6, 6.1, 2.5],\n",
              "       [6.5, 3.2, 5.1, 2. ],\n",
              "       [6.4, 2.7, 5.3, 1.9],\n",
              "       [6.8, 3. , 5.5, 2.1],\n",
              "       [5.7, 2.5, 5. , 2. ],\n",
              "       [5.8, 2.8, 5.1, 2.4],\n",
              "       [6.4, 3.2, 5.3, 2.3],\n",
              "       [6.5, 3. , 5.5, 1.8],\n",
              "       [7.7, 3.8, 6.7, 2.2],\n",
              "       [7.7, 2.6, 6.9, 2.3],\n",
              "       [6. , 2.2, 5. , 1.5],\n",
              "       [6.9, 3.2, 5.7, 2.3],\n",
              "       [5.6, 2.8, 4.9, 2. ],\n",
              "       [7.7, 2.8, 6.7, 2. ],\n",
              "       [6.3, 2.7, 4.9, 1.8],\n",
              "       [6.7, 3.3, 5.7, 2.1],\n",
              "       [7.2, 3.2, 6. , 1.8],\n",
              "       [6.2, 2.8, 4.8, 1.8],\n",
              "       [6.1, 3. , 4.9, 1.8],\n",
              "       [6.4, 2.8, 5.6, 2.1],\n",
              "       [7.2, 3. , 5.8, 1.6],\n",
              "       [7.4, 2.8, 6.1, 1.9],\n",
              "       [7.9, 3.8, 6.4, 2. ],\n",
              "       [6.4, 2.8, 5.6, 2.2],\n",
              "       [6.3, 2.8, 5.1, 1.5],\n",
              "       [6.1, 2.6, 5.6, 1.4],\n",
              "       [7.7, 3. , 6.1, 2.3],\n",
              "       [6.3, 3.4, 5.6, 2.4],\n",
              "       [6.4, 3.1, 5.5, 1.8],\n",
              "       [6. , 3. , 4.8, 1.8],\n",
              "       [6.9, 3.1, 5.4, 2.1],\n",
              "       [6.7, 3.1, 5.6, 2.4],\n",
              "       [6.9, 3.1, 5.1, 2.3],\n",
              "       [5.8, 2.7, 5.1, 1.9],\n",
              "       [6.8, 3.2, 5.9, 2.3],\n",
              "       [6.7, 3.3, 5.7, 2.5],\n",
              "       [6.7, 3. , 5.2, 2.3],\n",
              "       [6.3, 2.5, 5. , 1.9],\n",
              "       [6.5, 3. , 5.2, 2. ],\n",
              "       [6.2, 3.4, 5.4, 2.3],\n",
              "       [5.9, 3. , 5.1, 1.8]])"
            ]
          },
          "metadata": {},
          "execution_count": 4
        }
      ]
    },
    {
      "cell_type": "markdown",
      "metadata": {
        "id": "AVnBHWQ_p5VO"
      },
      "source": [
        "## Separate the dataset in Training and Test\n",
        "To separate by a random procedure use the scikit-learn procedure **train_test_split**. See on \n",
        "https://scikit-learn.org/stable/modules/generated/sklearn.model_selection.train_test_split.html\n",
        "\n",
        "Choose Test dimension = 30% and stratify with respect the target"
      ]
    },
    {
      "cell_type": "code",
      "metadata": {
        "id": "AT7JLV1np5VO",
        "collapsed": true,
        "colab": {
          "base_uri": "https://localhost:8080/"
        },
        "outputId": "6e7724bb-2a7d-43e2-a8e0-87421228cfb9"
      },
      "source": [
        "from sklearn.model_selection import train_test_split\n",
        "\n",
        "# Complete this cell!\n",
        "X_train, X_test, Y_train, Y_test = train_test_split(X, Y, test_size=0.30, random_state=42, stratify=Y)\n",
        "print(X_train.shape, X_test.shape, Y_train.shape, Y_test.shape)\n"
      ],
      "execution_count": null,
      "outputs": [
        {
          "output_type": "stream",
          "name": "stdout",
          "text": [
            "(105, 4) (45, 4) (105,) (45,)\n"
          ]
        }
      ]
    },
    {
      "cell_type": "markdown",
      "metadata": {
        "id": "oLaRjQ1_rGvD"
      },
      "source": [
        "###Why I have to split the dataset in training and test? please justify this choice...\n",
        "\n",
        "Because after creating the model, we must have data to measure the accuracy of the model. With the previous data, the accuracy and quality of the model can not be measured because the model was made using them and does not show real accuracy. Therefore, we must separate a number of data from the original data so that we can use them later to identify the quality and accuracy of the predicting model.\n",
        "\n",
        "\n",
        "\n",
        "\n",
        "\n"
      ]
    },
    {
      "cell_type": "markdown",
      "metadata": {
        "id": "UvO4eM6fp5VP"
      },
      "source": [
        "## Transform the target  y (that is a categorical variable) as a dummy matrix, both for training and test\n"
      ]
    },
    {
      "cell_type": "code",
      "metadata": {
        "id": "k1KHMdcAp5VP",
        "colab": {
          "base_uri": "https://localhost:8080/"
        },
        "outputId": "d6504de1-45d0-49f5-8c06-ba8f94814c62"
      },
      "source": [
        "from tensorflow.keras.utils import to_categorical\n",
        "Ytrain = to_categorical(Y_train)\n",
        "Ytest = to_categorical(Y_test)\n",
        "Ytrain\n"
      ],
      "execution_count": null,
      "outputs": [
        {
          "output_type": "execute_result",
          "data": {
            "text/plain": [
              "array([[0., 1., 0.],\n",
              "       [0., 1., 0.],\n",
              "       [1., 0., 0.],\n",
              "       [0., 0., 1.],\n",
              "       [0., 1., 0.],\n",
              "       [0., 0., 1.],\n",
              "       [1., 0., 0.],\n",
              "       [1., 0., 0.],\n",
              "       [1., 0., 0.],\n",
              "       [0., 0., 1.],\n",
              "       [0., 0., 1.],\n",
              "       [1., 0., 0.],\n",
              "       [1., 0., 0.],\n",
              "       [0., 1., 0.],\n",
              "       [0., 1., 0.],\n",
              "       [0., 0., 1.],\n",
              "       [1., 0., 0.],\n",
              "       [1., 0., 0.],\n",
              "       [0., 0., 1.],\n",
              "       [0., 1., 0.],\n",
              "       [1., 0., 0.],\n",
              "       [0., 0., 1.],\n",
              "       [0., 0., 1.],\n",
              "       [0., 0., 1.],\n",
              "       [0., 1., 0.],\n",
              "       [1., 0., 0.],\n",
              "       [1., 0., 0.],\n",
              "       [1., 0., 0.],\n",
              "       [0., 1., 0.],\n",
              "       [0., 1., 0.],\n",
              "       [1., 0., 0.],\n",
              "       [1., 0., 0.],\n",
              "       [0., 1., 0.],\n",
              "       [0., 1., 0.],\n",
              "       [1., 0., 0.],\n",
              "       [1., 0., 0.],\n",
              "       [0., 1., 0.],\n",
              "       [0., 0., 1.],\n",
              "       [0., 0., 1.],\n",
              "       [1., 0., 0.],\n",
              "       [0., 0., 1.],\n",
              "       [1., 0., 0.],\n",
              "       [0., 0., 1.],\n",
              "       [1., 0., 0.],\n",
              "       [0., 0., 1.],\n",
              "       [0., 1., 0.],\n",
              "       [1., 0., 0.],\n",
              "       [0., 0., 1.],\n",
              "       [0., 1., 0.],\n",
              "       [0., 0., 1.],\n",
              "       [0., 1., 0.],\n",
              "       [1., 0., 0.],\n",
              "       [0., 1., 0.],\n",
              "       [0., 0., 1.],\n",
              "       [0., 1., 0.],\n",
              "       [0., 0., 1.],\n",
              "       [1., 0., 0.],\n",
              "       [0., 1., 0.],\n",
              "       [1., 0., 0.],\n",
              "       [0., 1., 0.],\n",
              "       [0., 1., 0.],\n",
              "       [0., 1., 0.],\n",
              "       [0., 0., 1.],\n",
              "       [0., 1., 0.],\n",
              "       [0., 1., 0.],\n",
              "       [0., 0., 1.],\n",
              "       [0., 0., 1.],\n",
              "       [1., 0., 0.],\n",
              "       [0., 0., 1.],\n",
              "       [0., 1., 0.],\n",
              "       [0., 1., 0.],\n",
              "       [0., 0., 1.],\n",
              "       [1., 0., 0.],\n",
              "       [0., 0., 1.],\n",
              "       [0., 0., 1.],\n",
              "       [0., 1., 0.],\n",
              "       [1., 0., 0.],\n",
              "       [0., 0., 1.],\n",
              "       [0., 0., 1.],\n",
              "       [1., 0., 0.],\n",
              "       [1., 0., 0.],\n",
              "       [0., 0., 1.],\n",
              "       [0., 0., 1.],\n",
              "       [0., 0., 1.],\n",
              "       [1., 0., 0.],\n",
              "       [0., 0., 1.],\n",
              "       [0., 1., 0.],\n",
              "       [0., 0., 1.],\n",
              "       [0., 0., 1.],\n",
              "       [1., 0., 0.],\n",
              "       [0., 1., 0.],\n",
              "       [0., 1., 0.],\n",
              "       [0., 1., 0.],\n",
              "       [0., 1., 0.],\n",
              "       [0., 1., 0.],\n",
              "       [1., 0., 0.],\n",
              "       [0., 0., 1.],\n",
              "       [0., 1., 0.],\n",
              "       [0., 0., 1.],\n",
              "       [1., 0., 0.],\n",
              "       [1., 0., 0.],\n",
              "       [0., 1., 0.],\n",
              "       [1., 0., 0.],\n",
              "       [0., 1., 0.],\n",
              "       [1., 0., 0.]], dtype=float32)"
            ]
          },
          "metadata": {},
          "execution_count": 6
        }
      ]
    },
    {
      "cell_type": "markdown",
      "metadata": {
        "id": "fhHowjtLp5VP"
      },
      "source": [
        "## Construct the Neural Network\n",
        "\n",
        "### Neural Network:\n",
        "\n",
        "By mimicking how the human brain works, neural networks recognize relationships in data by using a series of algorithms. \n",
        "Artificial neural networks, neural networks, or neural nets are a type of algorithm for learning. It is a computational learning system that uses a network of functions to convert input data into output data, usually in a different form.\n",
        "Adaptive neural networks generate the best possible result without needing to rethink the output criteria in response to changing input.\n",
        "\n",
        "now you have the train data and test data ready, so you have to apply the model as explained in the software slides.\n",
        "\n",
        "### Architecture\n",
        "You have to define the **architecture** of the model with 3 hidden layers, with respectively 40, 20, 20 neurons. \n",
        "\n",
        "Choose 'relu' for the activation function of hidden layers\n",
        "\n",
        "Remember that we have 4 variables in the input and 3 classes in the output\n",
        "\n",
        "Remember also that with a categorical target the activation funcion of the output layer must be 'softmax'"
      ]
    },
    {
      "cell_type": "code",
      "metadata": {
        "id": "gk62jXUpp5VP",
        "collapsed": true,
        "colab": {
          "base_uri": "https://localhost:8080/"
        },
        "outputId": "8f66745b-4562-45f0-f0bd-7dd743b2da50"
      },
      "source": [
        "import tensorflow as tf\n",
        "from tensorflow.keras.layers import Input, Dense, Dropout\n",
        "from tensorflow.keras.models import Model\n",
        "\n",
        "# complete ths cell!\n",
        "\n",
        "inp = Input((4))\n",
        "x= Dense(20, activation = \"relu\")(inp)\n",
        "x= Dense(10, activation = \"relu\")(x)\n",
        "x= Dense(10, activation = \"relu\")(x)\n",
        "out = Dense(3, activation = \"softmax\")(x)\n",
        "\n",
        "model = Model(inp, out)\n",
        "\n",
        "model.summary() "
      ],
      "execution_count": null,
      "outputs": [
        {
          "output_type": "stream",
          "name": "stdout",
          "text": [
            "Model: \"model\"\n",
            "_________________________________________________________________\n",
            " Layer (type)                Output Shape              Param #   \n",
            "=================================================================\n",
            " input_1 (InputLayer)        [(None, 4)]               0         \n",
            "                                                                 \n",
            " dense (Dense)               (None, 20)                100       \n",
            "                                                                 \n",
            " dense_1 (Dense)             (None, 10)                210       \n",
            "                                                                 \n",
            " dense_2 (Dense)             (None, 10)                110       \n",
            "                                                                 \n",
            " dense_3 (Dense)             (None, 3)                 33        \n",
            "                                                                 \n",
            "=================================================================\n",
            "Total params: 453\n",
            "Trainable params: 453\n",
            "Non-trainable params: 0\n",
            "_________________________________________________________________\n"
          ]
        }
      ]
    },
    {
      "cell_type": "markdown",
      "metadata": {
        "id": "RD49Qz7cp5VQ"
      },
      "source": [
        "### Compilation of the model\n",
        "(see the slide 6 of the software slides)"
      ]
    },
    {
      "cell_type": "code",
      "source": [
        "opt= tf.keras.optimizers.Adam(learning_rate=0.01, beta_1=0.9, beta_2=0.999)"
      ],
      "metadata": {
        "id": "yiCvFozCEpbQ"
      },
      "execution_count": null,
      "outputs": []
    },
    {
      "cell_type": "code",
      "metadata": {
        "id": "MZNDQ6uRp5VQ"
      },
      "source": [
        "# complete this cell!\n",
        "\n",
        "model.compile(optimizer=opt, loss=\"categorical_crossentropy\", metrics=\"accuracy\")"
      ],
      "execution_count": null,
      "outputs": []
    },
    {
      "cell_type": "markdown",
      "metadata": {
        "id": "nn8MrQpPp5VQ"
      },
      "source": [
        "### Model fitting\n"
      ]
    },
    {
      "cell_type": "code",
      "metadata": {
        "id": "CgQlMITup5VQ",
        "colab": {
          "base_uri": "https://localhost:8080/"
        },
        "outputId": "5ae78828-6e98-4479-ebfe-a5fee8180386"
      },
      "source": [
        "# complete this cell\n",
        "\n",
        "hist = model.fit(X_train, Ytrain, batch_size=5, epochs=150, validation_data= (X_test, Ytest))"
      ],
      "execution_count": null,
      "outputs": [
        {
          "output_type": "stream",
          "name": "stdout",
          "text": [
            "Epoch 1/150\n",
            "21/21 [==============================] - 0s 9ms/step - loss: 0.1078 - accuracy: 0.9619 - val_loss: 0.0682 - val_accuracy: 0.9778\n",
            "Epoch 2/150\n",
            "21/21 [==============================] - 0s 5ms/step - loss: 0.0513 - accuracy: 0.9810 - val_loss: 0.0707 - val_accuracy: 0.9778\n",
            "Epoch 3/150\n",
            "21/21 [==============================] - 0s 6ms/step - loss: 0.0455 - accuracy: 0.9810 - val_loss: 0.0519 - val_accuracy: 0.9778\n",
            "Epoch 4/150\n",
            "21/21 [==============================] - 0s 5ms/step - loss: 0.0789 - accuracy: 0.9524 - val_loss: 0.0681 - val_accuracy: 0.9778\n",
            "Epoch 5/150\n",
            "21/21 [==============================] - 0s 5ms/step - loss: 0.0701 - accuracy: 0.9714 - val_loss: 0.1596 - val_accuracy: 0.9333\n",
            "Epoch 6/150\n",
            "21/21 [==============================] - 0s 5ms/step - loss: 0.0591 - accuracy: 0.9714 - val_loss: 0.0639 - val_accuracy: 0.9778\n",
            "Epoch 7/150\n",
            "21/21 [==============================] - 0s 5ms/step - loss: 0.0524 - accuracy: 0.9714 - val_loss: 0.1011 - val_accuracy: 0.9778\n",
            "Epoch 8/150\n",
            "21/21 [==============================] - 0s 5ms/step - loss: 0.0476 - accuracy: 0.9905 - val_loss: 0.1110 - val_accuracy: 0.9556\n",
            "Epoch 9/150\n",
            "21/21 [==============================] - 0s 5ms/step - loss: 0.0501 - accuracy: 0.9905 - val_loss: 0.1644 - val_accuracy: 0.9333\n",
            "Epoch 10/150\n",
            "21/21 [==============================] - 0s 5ms/step - loss: 0.1984 - accuracy: 0.9619 - val_loss: 0.0784 - val_accuracy: 0.9778\n",
            "Epoch 11/150\n",
            "21/21 [==============================] - 0s 5ms/step - loss: 0.2377 - accuracy: 0.9048 - val_loss: 0.3588 - val_accuracy: 0.8222\n",
            "Epoch 12/150\n",
            "21/21 [==============================] - 0s 5ms/step - loss: 0.1705 - accuracy: 0.9238 - val_loss: 0.0811 - val_accuracy: 0.9778\n",
            "Epoch 13/150\n",
            "21/21 [==============================] - 0s 5ms/step - loss: 0.0560 - accuracy: 0.9619 - val_loss: 0.0603 - val_accuracy: 0.9778\n",
            "Epoch 14/150\n",
            "21/21 [==============================] - 0s 5ms/step - loss: 0.0756 - accuracy: 0.9810 - val_loss: 0.1518 - val_accuracy: 0.9556\n",
            "Epoch 15/150\n",
            "21/21 [==============================] - 0s 6ms/step - loss: 0.0720 - accuracy: 0.9810 - val_loss: 0.1263 - val_accuracy: 0.9333\n",
            "Epoch 16/150\n",
            "21/21 [==============================] - 0s 5ms/step - loss: 0.0434 - accuracy: 0.9905 - val_loss: 0.0644 - val_accuracy: 0.9778\n",
            "Epoch 17/150\n",
            "21/21 [==============================] - 0s 5ms/step - loss: 0.0369 - accuracy: 0.9905 - val_loss: 0.0915 - val_accuracy: 0.9556\n",
            "Epoch 18/150\n",
            "21/21 [==============================] - 0s 5ms/step - loss: 0.0645 - accuracy: 0.9714 - val_loss: 0.2469 - val_accuracy: 0.8889\n",
            "Epoch 19/150\n",
            "21/21 [==============================] - 0s 5ms/step - loss: 0.1585 - accuracy: 0.9524 - val_loss: 0.0682 - val_accuracy: 0.9556\n",
            "Epoch 20/150\n",
            "21/21 [==============================] - 0s 6ms/step - loss: 0.0548 - accuracy: 0.9905 - val_loss: 0.0799 - val_accuracy: 0.9778\n",
            "Epoch 21/150\n",
            "21/21 [==============================] - 0s 5ms/step - loss: 0.0435 - accuracy: 0.9905 - val_loss: 0.0834 - val_accuracy: 0.9778\n",
            "Epoch 22/150\n",
            "21/21 [==============================] - 0s 5ms/step - loss: 0.0489 - accuracy: 0.9810 - val_loss: 0.1068 - val_accuracy: 0.9333\n",
            "Epoch 23/150\n",
            "21/21 [==============================] - 0s 5ms/step - loss: 0.0727 - accuracy: 0.9619 - val_loss: 0.1363 - val_accuracy: 0.9778\n",
            "Epoch 24/150\n",
            "21/21 [==============================] - 0s 5ms/step - loss: 0.0887 - accuracy: 0.9524 - val_loss: 0.1279 - val_accuracy: 0.9333\n",
            "Epoch 25/150\n",
            "21/21 [==============================] - 0s 7ms/step - loss: 0.0391 - accuracy: 0.9905 - val_loss: 0.0907 - val_accuracy: 0.9556\n",
            "Epoch 26/150\n",
            "21/21 [==============================] - 0s 5ms/step - loss: 0.0498 - accuracy: 0.9905 - val_loss: 0.0475 - val_accuracy: 0.9556\n",
            "Epoch 27/150\n",
            "21/21 [==============================] - 0s 5ms/step - loss: 0.0605 - accuracy: 0.9714 - val_loss: 0.0513 - val_accuracy: 0.9778\n",
            "Epoch 28/150\n",
            "21/21 [==============================] - 0s 7ms/step - loss: 0.0778 - accuracy: 0.9524 - val_loss: 0.2360 - val_accuracy: 0.8889\n",
            "Epoch 29/150\n",
            "21/21 [==============================] - 0s 5ms/step - loss: 0.0932 - accuracy: 0.9810 - val_loss: 0.1287 - val_accuracy: 0.9333\n",
            "Epoch 30/150\n",
            "21/21 [==============================] - 0s 5ms/step - loss: 0.0508 - accuracy: 0.9810 - val_loss: 0.0518 - val_accuracy: 0.9778\n",
            "Epoch 31/150\n",
            "21/21 [==============================] - 0s 7ms/step - loss: 0.0372 - accuracy: 0.9714 - val_loss: 0.1885 - val_accuracy: 0.9111\n",
            "Epoch 32/150\n",
            "21/21 [==============================] - 0s 7ms/step - loss: 0.0652 - accuracy: 0.9619 - val_loss: 0.0965 - val_accuracy: 0.9556\n",
            "Epoch 33/150\n",
            "21/21 [==============================] - 0s 5ms/step - loss: 0.0380 - accuracy: 0.9810 - val_loss: 0.0490 - val_accuracy: 0.9778\n",
            "Epoch 34/150\n",
            "21/21 [==============================] - 0s 5ms/step - loss: 0.0398 - accuracy: 0.9810 - val_loss: 0.1164 - val_accuracy: 0.9333\n",
            "Epoch 35/150\n",
            "21/21 [==============================] - 0s 5ms/step - loss: 0.0426 - accuracy: 0.9810 - val_loss: 0.0673 - val_accuracy: 0.9778\n",
            "Epoch 36/150\n",
            "21/21 [==============================] - 0s 6ms/step - loss: 0.0413 - accuracy: 0.9714 - val_loss: 0.0454 - val_accuracy: 0.9778\n",
            "Epoch 37/150\n",
            "21/21 [==============================] - 0s 6ms/step - loss: 0.0687 - accuracy: 0.9714 - val_loss: 0.1059 - val_accuracy: 0.9556\n",
            "Epoch 38/150\n",
            "21/21 [==============================] - 0s 5ms/step - loss: 0.0539 - accuracy: 0.9714 - val_loss: 0.1490 - val_accuracy: 0.9333\n",
            "Epoch 39/150\n",
            "21/21 [==============================] - 0s 7ms/step - loss: 0.0644 - accuracy: 0.9714 - val_loss: 0.1658 - val_accuracy: 0.9333\n",
            "Epoch 40/150\n",
            "21/21 [==============================] - 0s 5ms/step - loss: 0.0491 - accuracy: 0.9714 - val_loss: 0.0762 - val_accuracy: 0.9778\n",
            "Epoch 41/150\n",
            "21/21 [==============================] - 0s 5ms/step - loss: 0.0701 - accuracy: 0.9619 - val_loss: 0.1021 - val_accuracy: 0.9333\n",
            "Epoch 42/150\n",
            "21/21 [==============================] - 0s 6ms/step - loss: 0.0527 - accuracy: 0.9905 - val_loss: 0.0502 - val_accuracy: 0.9778\n",
            "Epoch 43/150\n",
            "21/21 [==============================] - 0s 7ms/step - loss: 0.0355 - accuracy: 0.9810 - val_loss: 0.3251 - val_accuracy: 0.8889\n",
            "Epoch 44/150\n",
            "21/21 [==============================] - 0s 5ms/step - loss: 0.0899 - accuracy: 0.9524 - val_loss: 0.0527 - val_accuracy: 0.9556\n",
            "Epoch 45/150\n",
            "21/21 [==============================] - 0s 5ms/step - loss: 0.0514 - accuracy: 0.9810 - val_loss: 0.1619 - val_accuracy: 0.9111\n",
            "Epoch 46/150\n",
            "21/21 [==============================] - 0s 5ms/step - loss: 0.0617 - accuracy: 0.9810 - val_loss: 0.0850 - val_accuracy: 0.9778\n",
            "Epoch 47/150\n",
            "21/21 [==============================] - 0s 5ms/step - loss: 0.0387 - accuracy: 0.9905 - val_loss: 0.0746 - val_accuracy: 0.9778\n",
            "Epoch 48/150\n",
            "21/21 [==============================] - 0s 5ms/step - loss: 0.0406 - accuracy: 0.9905 - val_loss: 0.0786 - val_accuracy: 0.9778\n",
            "Epoch 49/150\n",
            "21/21 [==============================] - 0s 6ms/step - loss: 0.0918 - accuracy: 0.9524 - val_loss: 0.1316 - val_accuracy: 0.9333\n",
            "Epoch 50/150\n",
            "21/21 [==============================] - 0s 5ms/step - loss: 0.1375 - accuracy: 0.9714 - val_loss: 0.3574 - val_accuracy: 0.8667\n",
            "Epoch 51/150\n",
            "21/21 [==============================] - 0s 5ms/step - loss: 0.1028 - accuracy: 0.9524 - val_loss: 0.0591 - val_accuracy: 0.9778\n",
            "Epoch 52/150\n",
            "21/21 [==============================] - 0s 6ms/step - loss: 0.0403 - accuracy: 0.9810 - val_loss: 0.1195 - val_accuracy: 0.9333\n",
            "Epoch 53/150\n",
            "21/21 [==============================] - 0s 5ms/step - loss: 0.0409 - accuracy: 0.9810 - val_loss: 0.0465 - val_accuracy: 0.9778\n",
            "Epoch 54/150\n",
            "21/21 [==============================] - 0s 7ms/step - loss: 0.0678 - accuracy: 0.9714 - val_loss: 0.1227 - val_accuracy: 0.9333\n",
            "Epoch 55/150\n",
            "21/21 [==============================] - 0s 5ms/step - loss: 0.0509 - accuracy: 0.9810 - val_loss: 0.1420 - val_accuracy: 0.9333\n",
            "Epoch 56/150\n",
            "21/21 [==============================] - 0s 5ms/step - loss: 0.0500 - accuracy: 0.9810 - val_loss: 0.0835 - val_accuracy: 0.9778\n",
            "Epoch 57/150\n",
            "21/21 [==============================] - 0s 6ms/step - loss: 0.0396 - accuracy: 0.9714 - val_loss: 0.1444 - val_accuracy: 0.9333\n",
            "Epoch 58/150\n",
            "21/21 [==============================] - 0s 5ms/step - loss: 0.0383 - accuracy: 0.9810 - val_loss: 0.0431 - val_accuracy: 0.9778\n",
            "Epoch 59/150\n",
            "21/21 [==============================] - 0s 5ms/step - loss: 0.0741 - accuracy: 0.9619 - val_loss: 0.0510 - val_accuracy: 0.9778\n",
            "Epoch 60/150\n",
            "21/21 [==============================] - 0s 6ms/step - loss: 0.0761 - accuracy: 0.9714 - val_loss: 0.0572 - val_accuracy: 0.9778\n",
            "Epoch 61/150\n",
            "21/21 [==============================] - 0s 5ms/step - loss: 0.0422 - accuracy: 0.9905 - val_loss: 0.0632 - val_accuracy: 0.9778\n",
            "Epoch 62/150\n",
            "21/21 [==============================] - 0s 5ms/step - loss: 0.0390 - accuracy: 0.9810 - val_loss: 0.1223 - val_accuracy: 0.9333\n",
            "Epoch 63/150\n",
            "21/21 [==============================] - 0s 5ms/step - loss: 0.0402 - accuracy: 0.9905 - val_loss: 0.1062 - val_accuracy: 0.9556\n",
            "Epoch 64/150\n",
            "21/21 [==============================] - 0s 6ms/step - loss: 0.0453 - accuracy: 0.9905 - val_loss: 0.0458 - val_accuracy: 0.9556\n",
            "Epoch 65/150\n",
            "21/21 [==============================] - 0s 6ms/step - loss: 0.0374 - accuracy: 0.9810 - val_loss: 0.0573 - val_accuracy: 0.9778\n",
            "Epoch 66/150\n",
            "21/21 [==============================] - 0s 5ms/step - loss: 0.0402 - accuracy: 0.9905 - val_loss: 0.0437 - val_accuracy: 0.9556\n",
            "Epoch 67/150\n",
            "21/21 [==============================] - 0s 6ms/step - loss: 0.0531 - accuracy: 0.9619 - val_loss: 0.0452 - val_accuracy: 0.9556\n",
            "Epoch 68/150\n",
            "21/21 [==============================] - 0s 8ms/step - loss: 0.0468 - accuracy: 0.9810 - val_loss: 0.0606 - val_accuracy: 0.9778\n",
            "Epoch 69/150\n",
            "21/21 [==============================] - 0s 6ms/step - loss: 0.0330 - accuracy: 0.9905 - val_loss: 0.2555 - val_accuracy: 0.9111\n",
            "Epoch 70/150\n",
            "21/21 [==============================] - 0s 5ms/step - loss: 0.0349 - accuracy: 0.9810 - val_loss: 0.0807 - val_accuracy: 0.9778\n",
            "Epoch 71/150\n",
            "21/21 [==============================] - 0s 5ms/step - loss: 0.0451 - accuracy: 0.9810 - val_loss: 0.0444 - val_accuracy: 0.9778\n",
            "Epoch 72/150\n",
            "21/21 [==============================] - 0s 6ms/step - loss: 0.0347 - accuracy: 0.9905 - val_loss: 0.4675 - val_accuracy: 0.8889\n",
            "Epoch 73/150\n",
            "21/21 [==============================] - 0s 5ms/step - loss: 0.1295 - accuracy: 0.9429 - val_loss: 0.1394 - val_accuracy: 0.9333\n",
            "Epoch 74/150\n",
            "21/21 [==============================] - 0s 5ms/step - loss: 0.0481 - accuracy: 0.9714 - val_loss: 0.0473 - val_accuracy: 0.9556\n",
            "Epoch 75/150\n",
            "21/21 [==============================] - 0s 5ms/step - loss: 0.0328 - accuracy: 0.9810 - val_loss: 0.1895 - val_accuracy: 0.9111\n",
            "Epoch 76/150\n",
            "21/21 [==============================] - 0s 6ms/step - loss: 0.0802 - accuracy: 0.9524 - val_loss: 0.0541 - val_accuracy: 0.9778\n",
            "Epoch 77/150\n",
            "21/21 [==============================] - 0s 5ms/step - loss: 0.0525 - accuracy: 0.9714 - val_loss: 0.0482 - val_accuracy: 0.9556\n",
            "Epoch 78/150\n",
            "21/21 [==============================] - 0s 5ms/step - loss: 0.0366 - accuracy: 0.9714 - val_loss: 0.2728 - val_accuracy: 0.8889\n",
            "Epoch 79/150\n",
            "21/21 [==============================] - 0s 6ms/step - loss: 0.0359 - accuracy: 0.9905 - val_loss: 0.0669 - val_accuracy: 0.9778\n",
            "Epoch 80/150\n",
            "21/21 [==============================] - 0s 5ms/step - loss: 0.0460 - accuracy: 0.9810 - val_loss: 0.0445 - val_accuracy: 0.9556\n",
            "Epoch 81/150\n",
            "21/21 [==============================] - 0s 5ms/step - loss: 0.0756 - accuracy: 0.9714 - val_loss: 0.2712 - val_accuracy: 0.8889\n",
            "Epoch 82/150\n",
            "21/21 [==============================] - 0s 5ms/step - loss: 0.0699 - accuracy: 0.9619 - val_loss: 0.0490 - val_accuracy: 0.9556\n",
            "Epoch 83/150\n",
            "21/21 [==============================] - 0s 5ms/step - loss: 0.0399 - accuracy: 0.9905 - val_loss: 0.0728 - val_accuracy: 0.9778\n",
            "Epoch 84/150\n",
            "21/21 [==============================] - 0s 8ms/step - loss: 0.0869 - accuracy: 0.9619 - val_loss: 0.2963 - val_accuracy: 0.8889\n",
            "Epoch 85/150\n",
            "21/21 [==============================] - 0s 5ms/step - loss: 0.2502 - accuracy: 0.9048 - val_loss: 0.0900 - val_accuracy: 0.9778\n",
            "Epoch 86/150\n",
            "21/21 [==============================] - 0s 5ms/step - loss: 0.0807 - accuracy: 0.9714 - val_loss: 0.1197 - val_accuracy: 0.9333\n",
            "Epoch 87/150\n",
            "21/21 [==============================] - 0s 6ms/step - loss: 0.0489 - accuracy: 0.9905 - val_loss: 0.0715 - val_accuracy: 0.9778\n",
            "Epoch 88/150\n",
            "21/21 [==============================] - 0s 5ms/step - loss: 0.0600 - accuracy: 0.9714 - val_loss: 0.0573 - val_accuracy: 0.9778\n",
            "Epoch 89/150\n",
            "21/21 [==============================] - 0s 6ms/step - loss: 0.0465 - accuracy: 0.9714 - val_loss: 0.0916 - val_accuracy: 0.9556\n",
            "Epoch 90/150\n",
            "21/21 [==============================] - 0s 5ms/step - loss: 0.0391 - accuracy: 0.9810 - val_loss: 0.0578 - val_accuracy: 0.9778\n",
            "Epoch 91/150\n",
            "21/21 [==============================] - 0s 5ms/step - loss: 0.0357 - accuracy: 0.9905 - val_loss: 0.0941 - val_accuracy: 0.9556\n",
            "Epoch 92/150\n",
            "21/21 [==============================] - 0s 7ms/step - loss: 0.1199 - accuracy: 0.9429 - val_loss: 0.1118 - val_accuracy: 0.9778\n",
            "Epoch 93/150\n",
            "21/21 [==============================] - 0s 5ms/step - loss: 0.0660 - accuracy: 0.9619 - val_loss: 0.1230 - val_accuracy: 0.9333\n",
            "Epoch 94/150\n",
            "21/21 [==============================] - 0s 5ms/step - loss: 0.0508 - accuracy: 0.9810 - val_loss: 0.0724 - val_accuracy: 0.9778\n",
            "Epoch 95/150\n",
            "21/21 [==============================] - 0s 5ms/step - loss: 0.0614 - accuracy: 0.9619 - val_loss: 0.3056 - val_accuracy: 0.8889\n",
            "Epoch 96/150\n",
            "21/21 [==============================] - 0s 5ms/step - loss: 0.0833 - accuracy: 0.9429 - val_loss: 0.0841 - val_accuracy: 0.9556\n",
            "Epoch 97/150\n",
            "21/21 [==============================] - 0s 6ms/step - loss: 0.0382 - accuracy: 0.9905 - val_loss: 0.0601 - val_accuracy: 0.9778\n",
            "Epoch 98/150\n",
            "21/21 [==============================] - 0s 5ms/step - loss: 0.0372 - accuracy: 0.9905 - val_loss: 0.0766 - val_accuracy: 0.9778\n",
            "Epoch 99/150\n",
            "21/21 [==============================] - 0s 5ms/step - loss: 0.0351 - accuracy: 0.9905 - val_loss: 0.0475 - val_accuracy: 0.9778\n",
            "Epoch 100/150\n",
            "21/21 [==============================] - 0s 7ms/step - loss: 0.0583 - accuracy: 0.9714 - val_loss: 0.0825 - val_accuracy: 0.9778\n",
            "Epoch 101/150\n",
            "21/21 [==============================] - 0s 5ms/step - loss: 0.1847 - accuracy: 0.9333 - val_loss: 0.2723 - val_accuracy: 0.8889\n",
            "Epoch 102/150\n",
            "21/21 [==============================] - 0s 5ms/step - loss: 0.0827 - accuracy: 0.9714 - val_loss: 0.0714 - val_accuracy: 0.9778\n",
            "Epoch 103/150\n",
            "21/21 [==============================] - 0s 5ms/step - loss: 0.0462 - accuracy: 0.9905 - val_loss: 0.1102 - val_accuracy: 0.9333\n",
            "Epoch 104/150\n",
            "21/21 [==============================] - 0s 6ms/step - loss: 0.0414 - accuracy: 0.9905 - val_loss: 0.0788 - val_accuracy: 0.9778\n",
            "Epoch 105/150\n",
            "21/21 [==============================] - 0s 7ms/step - loss: 0.0465 - accuracy: 0.9714 - val_loss: 0.2202 - val_accuracy: 0.8889\n",
            "Epoch 106/150\n",
            "21/21 [==============================] - 0s 5ms/step - loss: 0.0568 - accuracy: 0.9619 - val_loss: 0.0479 - val_accuracy: 0.9778\n",
            "Epoch 107/150\n",
            "21/21 [==============================] - 0s 5ms/step - loss: 0.0455 - accuracy: 0.9810 - val_loss: 0.0714 - val_accuracy: 0.9778\n",
            "Epoch 108/150\n",
            "21/21 [==============================] - 0s 6ms/step - loss: 0.0467 - accuracy: 0.9714 - val_loss: 0.0544 - val_accuracy: 0.9778\n",
            "Epoch 109/150\n",
            "21/21 [==============================] - 0s 5ms/step - loss: 0.0847 - accuracy: 0.9810 - val_loss: 0.0870 - val_accuracy: 0.9556\n",
            "Epoch 110/150\n",
            "21/21 [==============================] - 0s 5ms/step - loss: 0.0375 - accuracy: 0.9905 - val_loss: 0.0822 - val_accuracy: 0.9556\n",
            "Epoch 111/150\n",
            "21/21 [==============================] - 0s 5ms/step - loss: 0.0351 - accuracy: 0.9905 - val_loss: 0.0651 - val_accuracy: 0.9778\n",
            "Epoch 112/150\n",
            "21/21 [==============================] - 0s 5ms/step - loss: 0.0355 - accuracy: 0.9810 - val_loss: 0.1031 - val_accuracy: 0.9333\n",
            "Epoch 113/150\n",
            "21/21 [==============================] - 0s 6ms/step - loss: 0.0448 - accuracy: 0.9905 - val_loss: 0.0467 - val_accuracy: 0.9556\n",
            "Epoch 114/150\n",
            "21/21 [==============================] - 0s 5ms/step - loss: 0.0387 - accuracy: 0.9714 - val_loss: 0.1114 - val_accuracy: 0.9333\n",
            "Epoch 115/150\n",
            "21/21 [==============================] - 0s 5ms/step - loss: 0.0341 - accuracy: 0.9905 - val_loss: 0.0669 - val_accuracy: 0.9778\n",
            "Epoch 116/150\n",
            "21/21 [==============================] - 0s 8ms/step - loss: 0.0401 - accuracy: 0.9810 - val_loss: 0.1419 - val_accuracy: 0.9333\n",
            "Epoch 117/150\n",
            "21/21 [==============================] - 0s 5ms/step - loss: 0.0506 - accuracy: 0.9810 - val_loss: 0.0540 - val_accuracy: 0.9778\n",
            "Epoch 118/150\n",
            "21/21 [==============================] - 0s 6ms/step - loss: 0.0357 - accuracy: 0.9905 - val_loss: 0.0866 - val_accuracy: 0.9556\n",
            "Epoch 119/150\n",
            "21/21 [==============================] - 0s 5ms/step - loss: 0.0328 - accuracy: 0.9905 - val_loss: 0.0497 - val_accuracy: 0.9778\n",
            "Epoch 120/150\n",
            "21/21 [==============================] - 0s 5ms/step - loss: 0.1085 - accuracy: 0.9524 - val_loss: 0.0523 - val_accuracy: 0.9778\n",
            "Epoch 121/150\n",
            "21/21 [==============================] - 0s 5ms/step - loss: 0.0326 - accuracy: 0.9810 - val_loss: 0.1899 - val_accuracy: 0.9111\n",
            "Epoch 122/150\n",
            "21/21 [==============================] - 0s 5ms/step - loss: 0.0465 - accuracy: 0.9810 - val_loss: 0.0625 - val_accuracy: 0.9778\n",
            "Epoch 123/150\n",
            "21/21 [==============================] - 0s 5ms/step - loss: 0.0757 - accuracy: 0.9714 - val_loss: 0.3450 - val_accuracy: 0.8889\n",
            "Epoch 124/150\n",
            "21/21 [==============================] - 0s 8ms/step - loss: 0.0815 - accuracy: 0.9714 - val_loss: 0.0820 - val_accuracy: 0.9556\n",
            "Epoch 125/150\n",
            "21/21 [==============================] - 0s 7ms/step - loss: 0.0343 - accuracy: 0.9905 - val_loss: 0.0480 - val_accuracy: 0.9778\n",
            "Epoch 126/150\n",
            "21/21 [==============================] - 0s 6ms/step - loss: 0.0389 - accuracy: 0.9810 - val_loss: 0.1839 - val_accuracy: 0.9111\n",
            "Epoch 127/150\n",
            "21/21 [==============================] - 0s 5ms/step - loss: 0.0623 - accuracy: 0.9714 - val_loss: 0.2092 - val_accuracy: 0.8889\n",
            "Epoch 128/150\n",
            "21/21 [==============================] - 0s 5ms/step - loss: 0.0565 - accuracy: 0.9810 - val_loss: 0.0711 - val_accuracy: 0.9778\n",
            "Epoch 129/150\n",
            "21/21 [==============================] - 0s 6ms/step - loss: 0.0397 - accuracy: 0.9905 - val_loss: 0.0443 - val_accuracy: 0.9556\n",
            "Epoch 130/150\n",
            "21/21 [==============================] - 0s 5ms/step - loss: 0.0592 - accuracy: 0.9810 - val_loss: 0.0612 - val_accuracy: 0.9778\n",
            "Epoch 131/150\n",
            "21/21 [==============================] - 0s 5ms/step - loss: 0.0923 - accuracy: 0.9714 - val_loss: 0.1041 - val_accuracy: 0.9333\n",
            "Epoch 132/150\n",
            "21/21 [==============================] - 0s 6ms/step - loss: 0.0330 - accuracy: 0.9905 - val_loss: 0.0525 - val_accuracy: 0.9778\n",
            "Epoch 133/150\n",
            "21/21 [==============================] - 0s 5ms/step - loss: 0.0354 - accuracy: 0.9810 - val_loss: 0.0999 - val_accuracy: 0.9556\n",
            "Epoch 134/150\n",
            "21/21 [==============================] - 0s 7ms/step - loss: 0.0317 - accuracy: 0.9905 - val_loss: 0.0824 - val_accuracy: 0.9778\n",
            "Epoch 135/150\n",
            "21/21 [==============================] - 0s 5ms/step - loss: 0.0358 - accuracy: 0.9810 - val_loss: 0.1368 - val_accuracy: 0.9556\n",
            "Epoch 136/150\n",
            "21/21 [==============================] - 0s 5ms/step - loss: 0.0671 - accuracy: 0.9810 - val_loss: 0.2914 - val_accuracy: 0.9333\n",
            "Epoch 137/150\n",
            "21/21 [==============================] - 0s 5ms/step - loss: 0.1562 - accuracy: 0.9524 - val_loss: 0.1262 - val_accuracy: 0.9111\n",
            "Epoch 138/150\n",
            "21/21 [==============================] - 0s 5ms/step - loss: 0.0651 - accuracy: 0.9619 - val_loss: 0.0682 - val_accuracy: 0.9556\n",
            "Epoch 139/150\n",
            "21/21 [==============================] - 0s 5ms/step - loss: 0.0503 - accuracy: 0.9714 - val_loss: 0.1752 - val_accuracy: 0.9111\n",
            "Epoch 140/150\n",
            "21/21 [==============================] - 0s 6ms/step - loss: 0.0487 - accuracy: 0.9714 - val_loss: 0.2475 - val_accuracy: 0.8889\n",
            "Epoch 141/150\n",
            "21/21 [==============================] - 0s 5ms/step - loss: 0.0532 - accuracy: 0.9714 - val_loss: 0.0637 - val_accuracy: 0.9778\n",
            "Epoch 142/150\n",
            "21/21 [==============================] - 0s 5ms/step - loss: 0.0575 - accuracy: 0.9810 - val_loss: 0.0874 - val_accuracy: 0.9556\n",
            "Epoch 143/150\n",
            "21/21 [==============================] - 0s 5ms/step - loss: 0.1006 - accuracy: 0.9619 - val_loss: 0.2793 - val_accuracy: 0.8889\n",
            "Epoch 144/150\n",
            "21/21 [==============================] - 0s 6ms/step - loss: 0.0611 - accuracy: 0.9619 - val_loss: 0.0516 - val_accuracy: 0.9556\n",
            "Epoch 145/150\n",
            "21/21 [==============================] - 0s 7ms/step - loss: 0.0284 - accuracy: 0.9905 - val_loss: 0.2558 - val_accuracy: 0.8889\n",
            "Epoch 146/150\n",
            "21/21 [==============================] - 0s 5ms/step - loss: 0.0332 - accuracy: 0.9905 - val_loss: 0.0613 - val_accuracy: 0.9778\n",
            "Epoch 147/150\n",
            "21/21 [==============================] - 0s 5ms/step - loss: 0.0242 - accuracy: 0.9905 - val_loss: 0.2896 - val_accuracy: 0.9333\n",
            "Epoch 148/150\n",
            "21/21 [==============================] - 0s 6ms/step - loss: 0.1209 - accuracy: 0.9619 - val_loss: 0.0529 - val_accuracy: 0.9778\n",
            "Epoch 149/150\n",
            "21/21 [==============================] - 0s 5ms/step - loss: 0.0435 - accuracy: 0.9714 - val_loss: 0.1442 - val_accuracy: 0.8889\n",
            "Epoch 150/150\n",
            "21/21 [==============================] - 0s 5ms/step - loss: 0.0359 - accuracy: 0.9905 - val_loss: 0.0483 - val_accuracy: 0.9778\n"
          ]
        }
      ]
    },
    {
      "cell_type": "markdown",
      "metadata": {
        "id": "LOPRnBwRp5VQ"
      },
      "source": [
        "### history of fitting"
      ]
    },
    {
      "cell_type": "code",
      "metadata": {
        "id": "1_lDIcLkp5VQ",
        "collapsed": true,
        "colab": {
          "base_uri": "https://localhost:8080/",
          "height": 513
        },
        "outputId": "83cb8acf-e36f-46ce-b685-c31a65e177f3"
      },
      "source": [
        "# Plot training & validation accuracy values\n",
        "\n",
        "plt.plot(hist.history[\"accuracy\"])\n",
        "plt.plot(hist.history[\"val_accuracy\"])\n",
        "plt.show()\n",
        "\n",
        "# Plot training & validation loss values\n",
        "\n",
        "plt.plot(hist.history[\"loss\"])\n",
        "plt.plot(hist.history[\"val_loss\"])\n",
        "plt.show()"
      ],
      "execution_count": null,
      "outputs": [
        {
          "output_type": "display_data",
          "data": {
            "text/plain": [
              "<Figure size 432x288 with 1 Axes>"
            ],
            "image/png": "[encoded data removed]"
          },
          "metadata": {
            "needs_background": "light"
          }
        },
        {
          "output_type": "display_data",
          "data": {
            "text/plain": [
              "<Figure size 432x288 with 1 Axes>"
            ],
            "image/png": "[encoded data removed]"
          },
          "metadata": {
            "needs_background": "light"
          }
        }
      ]
    },
    {
      "cell_type": "markdown",
      "metadata": {
        "id": "tNwbUukwp5VR"
      },
      "source": [
        "## Comment the results:\n",
        "This test is designed to determine how well the model generalizes. Comparing neural network outputs to corresponding targets in the testing instances of the data set is what we do here.\n",
        "The results show that the accuracy of this model is 0.9778 and the loss is 0.0483. This indicates how accurately the algorithm model evaluates the data. The loss measures the gap between the current output of the algorithm and its expected output, and a low value of the loss indicates the high accuracy of the model.\n"
      ]
    },
    {
      "cell_type": "markdown",
      "metadata": {
        "id": "mgT9Bzk5Mt7e"
      },
      "source": [
        "##  Final evaluation and confusion matrix"
      ]
    },
    {
      "cell_type": "code",
      "metadata": {
        "id": "0HUdaHGe-g_0",
        "colab": {
          "base_uri": "https://localhost:8080/"
        },
        "outputId": "daf3e7a8-13b8-477d-d31e-6e1cc64a480e"
      },
      "source": [
        "from sklearn.metrics import confusion_matrix #to compare the results of prediction with the original value\n",
        "model.evaluate(X_test, Ytest)"
      ],
      "execution_count": null,
      "outputs": [
        {
          "output_type": "stream",
          "name": "stdout",
          "text": [
            "2/2 [==============================] - 0s 8ms/step - loss: 0.0483 - accuracy: 0.9778\n"
          ]
        },
        {
          "output_type": "execute_result",
          "data": {
            "text/plain": [
              "[0.04833148419857025, 0.9777777791023254]"
            ]
          },
          "metadata": {},
          "execution_count": 25
        }
      ]
    },
    {
      "cell_type": "code",
      "metadata": {
        "id": "Uu06IyX7OSco",
        "collapsed": true,
        "colab": {
          "base_uri": "https://localhost:8080/"
        },
        "outputId": "95258a76-c960-4733-8178-4b2a1c0ec0f2"
      },
      "source": [
        "# complete this cell\n",
        "\n",
        "yyy= model.predict(X_test, batch_size=5)\n",
        "yyy\n",
        "\n"
      ],
      "execution_count": null,
      "outputs": [
        {
          "output_type": "execute_result",
          "data": {
            "text/plain": [
              "array([[2.2905262e-15, 4.9155665e-04, 9.9950838e-01],\n",
              "       [1.2336335e-05, 9.9643552e-01, 3.5521176e-03],\n",
              "       [3.8966493e-05, 4.7324294e-01, 5.2671814e-01],\n",
              "       [1.8246412e-05, 9.9494678e-01, 5.0349296e-03],\n",
              "       [1.3875118e-07, 8.8808551e-02, 9.1119134e-01],\n",
              "       [4.0146288e-19, 4.0984571e-05, 9.9995899e-01],\n",
              "       [1.6430918e-06, 9.9944395e-01, 5.5435154e-04],\n",
              "       [3.7951162e-09, 9.9999666e-01, 3.2966370e-06],\n",
              "       [1.0000000e+00, 9.6800212e-10, 8.1191629e-22],\n",
              "       [5.4325923e-15, 6.2991196e-04, 9.9937016e-01],\n",
              "       [1.0000000e+00, 5.3274008e-14, 7.5706703e-28],\n",
              "       [1.0000000e+00, 2.4699003e-09, 1.1155395e-20],\n",
              "       [6.6828113e-15, 6.6851248e-04, 9.9933147e-01],\n",
              "       [1.0035892e-10, 1.0516714e-02, 9.8948330e-01],\n",
              "       [1.0000000e+00, 8.5928507e-11, 3.6222445e-23],\n",
              "       [3.4946659e-15, 5.5495888e-04, 9.9944502e-01],\n",
              "       [5.2700166e-10, 9.9999988e-01, 1.5954345e-07],\n",
              "       [1.0000000e+00, 1.4566882e-11, 3.3067444e-24],\n",
              "       [1.0000000e+00, 5.3830544e-08, 1.0419463e-18],\n",
              "       [1.0000000e+00, 6.7708478e-11, 2.7429262e-23],\n",
              "       [6.4053388e-08, 9.9998665e-01, 1.3280906e-05],\n",
              "       [1.0000000e+00, 2.7254063e-10, 2.9260643e-22],\n",
              "       [1.5989329e-07, 9.9997878e-01, 2.1095433e-05],\n",
              "       [5.9585170e-18, 8.8950379e-05, 9.9991107e-01],\n",
              "       [5.3678036e-07, 1.3093278e-01, 8.6906672e-01],\n",
              "       [6.7602923e-07, 9.9988914e-01, 1.1014021e-04],\n",
              "       [1.3652207e-04, 9.8268664e-01, 1.7176900e-02],\n",
              "       [4.5142831e-10, 9.9999976e-01, 1.8769127e-07],\n",
              "       [4.7438214e-05, 9.9145925e-01, 8.4932931e-03],\n",
              "       [1.0000000e+00, 9.2892090e-11, 4.1085981e-23],\n",
              "       [5.5188814e-08, 6.7726940e-02, 9.3227297e-01],\n",
              "       [6.0531783e-18, 8.9354020e-05, 9.9991059e-01],\n",
              "       [1.6078183e-06, 9.9950993e-01, 4.8853416e-04],\n",
              "       [1.0000000e+00, 2.4879274e-10, 2.0999972e-22],\n",
              "       [1.2130071e-12, 2.9738774e-03, 9.9702615e-01],\n",
              "       [1.0000000e+00, 5.2386769e-11, 4.3804591e-23],\n",
              "       [1.0000000e+00, 4.9585014e-10, 1.6094981e-21],\n",
              "       [1.0000000e+00, 3.3558065e-10, 4.9251977e-22],\n",
              "       [1.0000000e+00, 1.2910241e-08, 3.2253005e-19],\n",
              "       [1.4067705e-05, 3.5044900e-01, 6.4953697e-01],\n",
              "       [1.5615134e-06, 9.9946684e-01, 5.3159648e-04],\n",
              "       [1.0000000e+00, 1.0540828e-12, 3.0823288e-25],\n",
              "       [3.6119803e-07, 1.1702626e-01, 8.8297337e-01],\n",
              "       [6.3675116e-12, 4.7822343e-03, 9.9521780e-01],\n",
              "       [3.4939646e-07, 9.9995816e-01, 4.1455663e-05]], dtype=float32)"
            ]
          },
          "metadata": {},
          "execution_count": 29
        }
      ]
    },
    {
      "cell_type": "code",
      "source": [
        "yyt= np.argmax(yyy, axis= 1)\n",
        "yyt"
      ],
      "metadata": {
        "colab": {
          "base_uri": "https://localhost:8080/"
        },
        "id": "5mHOsjG3Dz8J",
        "outputId": "9a056f77-1b34-4f09-c332-57ba78d9618f"
      },
      "execution_count": null,
      "outputs": [
        {
          "output_type": "execute_result",
          "data": {
            "text/plain": [
              "array([2, 1, 2, 1, 2, 2, 1, 1, 0, 2, 0, 0, 2, 2, 0, 2, 1, 0, 0, 0, 1, 0,\n",
              "       1, 2, 2, 1, 1, 1, 1, 0, 2, 2, 1, 0, 2, 0, 0, 0, 0, 2, 1, 0, 2, 2,\n",
              "       1])"
            ]
          },
          "metadata": {},
          "execution_count": 31
        }
      ]
    },
    {
      "cell_type": "markdown",
      "source": [
        "Using the confusion matrix, we can calculate the model's accuracy and error:\n",
        "In the confusion matrix, the rows represent the targets (or real values) and the columns represent the corresponding outputs (or predictive values). The diagonal cells indicate correctly classified samples. The off-diagonal cells depict misclassified samples.\n",
        "All but one of the testing instances are correctly classified here."
      ],
      "metadata": {
        "id": "xbA233nagfSH"
      }
    },
    {
      "cell_type": "code",
      "source": [
        "confusion_matrix(Y_test, yyt)"
      ],
      "metadata": {
        "colab": {
          "base_uri": "https://localhost:8080/"
        },
        "id": "h6sxcuYUERHT",
        "outputId": "bd4e43fc-5133-419c-cf9f-05ec8f15dceb"
      },
      "execution_count": null,
      "outputs": [
        {
          "output_type": "execute_result",
          "data": {
            "text/plain": [
              "array([[15,  0,  0],\n",
              "       [ 0, 14,  1],\n",
              "       [ 0,  0, 15]])"
            ]
          },
          "metadata": {},
          "execution_count": 32
        }
      ]
    }
  ]
}